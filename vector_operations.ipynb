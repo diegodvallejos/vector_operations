{
  "cells": [
    {
      "cell_type": "markdown",
      "source": [
        "#Word Embeddings, operaciones y jueguitos"
      ],
      "metadata": {
        "id": "tDIJFW8VuP0D"
      }
    },
    {
      "cell_type": "code",
      "source": [
        "#Importamos las librerias necesarias\n",
        "import gensim\n",
        "import gensim.downloader as api\n",
        "from gensim.models.word2vec import Word2Vec"
      ],
      "metadata": {
        "id": "IU1xtd4lsrjk"
      },
      "execution_count": null,
      "outputs": []
    },
    {
      "cell_type": "code",
      "execution_count": 1,
      "metadata": {
        "colab": {
          "base_uri": "https://localhost:8080/"
        },
        "id": "uDjE_HQIlwZb",
        "outputId": "cbe4eb27-b423-4200-cc30-414bc7b88bba"
      },
      "outputs": [
        {
          "output_type": "stream",
          "name": "stdout",
          "text": [
            "[==================================================] 100.0% 31.6/31.6MB downloaded\n"
          ]
        }
      ],
      "source": [
        "# Creamos un modelo cargando el dataset text8\n",
        "corpus = api.load('text8')\n",
        "\n",
        "# Creamos el modelo Cbow usando word2vec\n",
        "cbow_model = Word2Vec(corpus,\n",
        "                      min_count=1,\n",
        "                      vector_size=5,\n",
        "                      window=4)\n",
        "\n",
        "# Creamos el modelo skipgram usando wors2vec (notar que solo cambia un parametro)\n",
        "skipgram_model = Word2Vec(corpus,\n",
        "                          min_count=1,\n",
        "                          vector_size=5,\n",
        "                          window=4,\n",
        "                          sg=True)"
      ]
    },
    {
      "cell_type": "code",
      "execution_count": 2,
      "metadata": {
        "colab": {
          "base_uri": "https://localhost:8080/"
        },
        "id": "YMEulrpglwZd",
        "outputId": "b90b8eaa-fb7a-458e-a84c-b583c710e943"
      },
      "outputs": [
        {
          "output_type": "stream",
          "name": "stdout",
          "text": [
            "num_records : 3000000\n",
            "base_dataset: Google News (about 100 billion words)\n",
            "description : Pre-trained vectors trained on a part of the Google News dataset (about 100 billion words). The model contains 300-dimensional vectors for 3 million words and phrases. The phrases were obtained using a simple data-driven approach described in 'Distributed Representations of Words and Phrases and their Compositionality' (https://code.google.com/archive/p/word2vec/).\n",
            "[==================================================] 100.0% 1662.8/1662.8MB downloaded\n"
          ]
        }
      ],
      "source": [
        "# Printeamos la descripcion del modelo\n",
        "model_dict = gensim.downloader.info()['models']['word2vec-google-news-300']\n",
        "\n",
        "for key in ['num_records', 'base_dataset', 'description']:\n",
        "    print(f'{key: <12}: {model_dict[key]}')\n",
        "\n",
        "# y lo descargamos\n",
        "google_cbow = api.load('word2vec-google-news-300')"
      ]
    },
    {
      "cell_type": "code",
      "source": [
        "# Devolvemos el embedding para una palabra\n",
        "\n",
        "print('Word Embedding para \"tree\":\\n')\n",
        "print(f'CBOW:        {cbow_model.wv[\"tree\"]}')\n",
        "print(f'Skip-Gram:   {skipgram_model.wv[\"tree\"]}')\n",
        "print(f'Google CBOW: {google_cbow[\"tree\"][:5]}\\n\\n')"
      ],
      "metadata": {
        "id": "5hUI1A_GtLfD"
      },
      "execution_count": null,
      "outputs": []
    },
    {
      "cell_type": "code",
      "source": [
        "# Calculo de similaridad\n",
        "\n",
        "print('Similitud entre \"tree\" y \"leaf\":\\n')\n",
        "print(f'CBOW:        {cbow_model.wv.similarity(\"tree\", \"leaf\")}')\n",
        "print(f'Skip-Gram:   {skipgram_model.wv.similarity(\"tree\", \"leaf\")}')\n",
        "print(f'Google CBOW: {google_cbow.similarity(\"tree\", \"leaf\")}\\n\\n')"
      ],
      "metadata": {
        "id": "YgbZUv6ftNVN"
      },
      "execution_count": null,
      "outputs": []
    },
    {
      "cell_type": "code",
      "source": [
        "# Devolvemos las 3 mas similares\n",
        "\n",
        "print('Palabras mas similares a \"tree\":\\n')\n",
        "print(f'CBOW:        {cbow_model.wv.most_similar(\"tree\", topn=3)}')\n",
        "print(f'Skip-Gram:   {skipgram_model.wv.most_similar(\"tree\", topn=3)}')\n",
        "print(f'Google CBOW: {google_cbow.most_similar(\"tree\", topn=3)}\\n\\n')\n"
      ],
      "metadata": {
        "id": "nz9bMJmxtOwW"
      },
      "execution_count": null,
      "outputs": []
    },
    {
      "cell_type": "markdown",
      "source": [
        "## Jueguitos jeje"
      ],
      "metadata": {
        "id": "ya51U_KQtRLv"
      }
    },
    {
      "cell_type": "code",
      "source": [
        "# Encontrar palabra que no va encaja con las demas\n",
        "words = ['tree', 'leaf', 'plant', 'bark', 'car']\n",
        "\n",
        "cbow_result = cbow_model.wv.doesnt_match(words)\n",
        "skipgram_result = skipgram_model.wv.doesnt_match(words)\n",
        "google_result = google_cbow.doesnt_match(words)\n",
        "\n",
        "print(f\"Encontrar palabra desubicada: {words}:\\n\")\n",
        "print(f'CBOW:        {cbow_result}')\n",
        "print(f'Skip-Gram:   {skipgram_result}')\n",
        "print(f'Google CBOW: {google_result}')"
      ],
      "metadata": {
        "id": "rcm8l3pNtQjC"
      },
      "execution_count": null,
      "outputs": []
    },
    {
      "cell_type": "code",
      "execution_count": 4,
      "metadata": {
        "colab": {
          "base_uri": "https://localhost:8080/"
        },
        "id": "d_OkSexGlwZf",
        "outputId": "4e391cc3-1e65-45d9-b4fa-c5845fd1f439"
      },
      "outputs": [
        {
          "output_type": "stream",
          "name": "stdout",
          "text": [
            "('queen', 0.7300517559051514)\n",
            "('berlin', 0.7331712245941162)\n"
          ]
        }
      ],
      "source": [
        "#Ejemplito clasico\n",
        "\n",
        "# King -> Queen ejemplito\n",
        "king = google_cbow['king']\n",
        "man = google_cbow['man']\n",
        "woman = google_cbow['woman']\n",
        "\n",
        "king_result = google_cbow.most_similar(king-man+woman, topn=2)[1]\n",
        "print(king_result)"
      ]
    },
    {
      "cell_type": "code",
      "source": [
        "#Otro ejemplito\n",
        "\n",
        "# Paris -> Berlin\n",
        "paris = google_cbow['paris']\n",
        "france = google_cbow['france']\n",
        "berlin = google_cbow['berlin']\n",
        "\n",
        "paris_result = google_cbow.most_similar(paris-france+berlin, topn=1)[0]\n",
        "print(paris_result)"
      ],
      "metadata": {
        "id": "EdXxxxEVtneQ"
      },
      "execution_count": null,
      "outputs": []
    },
    {
      "cell_type": "code",
      "source": [
        "#Probemos otro que se les ocurra\n",
        "\n",
        "car_truck_result = google_cbow.most_similar(google_cbow['son'] - google_cbow['man'] + google_cbow['woman'], topn=1)[0]\n",
        "print(car_truck_result)"
      ],
      "metadata": {
        "colab": {
          "base_uri": "https://localhost:8080/"
        },
        "id": "tbAi0PPplyFG",
        "outputId": "4faf91a3-1df0-461a-b4c6-47d6cfbbeae7"
      },
      "execution_count": 20,
      "outputs": [
        {
          "output_type": "stream",
          "name": "stdout",
          "text": [
            "('daughter', 0.8964177966117859)\n"
          ]
        }
      ]
    },
    {
      "cell_type": "code",
      "source": [],
      "metadata": {
        "id": "CnNwFWBcqZMt"
      },
      "execution_count": null,
      "outputs": []
    }
  ],
  "metadata": {
    "kernelspec": {
      "display_name": "Python 3",
      "language": "python",
      "name": "python3"
    },
    "language_info": {
      "name": "python",
      "version": "3.12.2"
    },
    "colab": {
      "provenance": []
    }
  },
  "nbformat": 4,
  "nbformat_minor": 0
}