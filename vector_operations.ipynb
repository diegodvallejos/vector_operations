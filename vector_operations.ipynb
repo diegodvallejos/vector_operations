{
 "cells": [
  {
   "cell_type": "code",
   "execution_count": null,
   "metadata": {},
   "outputs": [],
   "source": [
    "import gensim\n",
    "import gensim.downloader as api\n",
    "from gensim.models.word2vec import Word2Vec\n",
    "\n",
    "# Create a model by loading the text8 dataset\n",
    "corpus = api.load('text8')\n",
    "\n",
    "# Create a CBOW model\n",
    "cbow_model = Word2Vec(corpus,\n",
    "                      min_count=1,\n",
    "                      vector_size=5,\n",
    "                      window=4)\n",
    "\n",
    "# Create a Skip-Gram model\n",
    "skipgram_model = Word2Vec(corpus,\n",
    "                          min_count=1,\n",
    "                          vector_size=5,\n",
    "                          window=4,\n",
    "                          sg=True)"
   ]
  },
  {
   "cell_type": "code",
   "execution_count": null,
   "metadata": {},
   "outputs": [],
   "source": [
    "# Print the model description\n",
    "model_dict = gensim.downloader.info()['models']['word2vec-google-news-300']\n",
    "\n",
    "for key in ['num_records', 'base_dataset', 'description']:\n",
    "    print(f'{key: <12}: {model_dict[key]}')\n",
    "\n",
    "# Download in the model\n",
    "google_cbow = api.load('word2vec-google-news-300')"
   ]
  },
  {
   "cell_type": "code",
   "execution_count": null,
   "metadata": {},
   "outputs": [],
   "source": [
    "# Return the embedding for a word\n",
    "print('Word Embedding for \"tree\":\\n')\n",
    "print(f'CBOW:        {cbow_model.wv[\"tree\"]}')\n",
    "print(f'Skip-Gram:   {skipgram_model.wv[\"tree\"]}')\n",
    "print(f'Google CBOW: {google_cbow[\"tree\"][:5]}\\n\\n')\n",
    "\n",
    "\n",
    "# Calculate the similarity between words\n",
    "print('Similarity Between \"tree\" and \"leaf\":\\n')\n",
    "print(f'CBOW:        {cbow_model.wv.similarity(\"tree\", \"leaf\")}')\n",
    "print(f'Skip-Gram:   {skipgram_model.wv.similarity(\"tree\", \"leaf\")}')\n",
    "print(f'Google CBOW: {google_cbow.similarity(\"tree\", \"leaf\")}\\n\\n')\n",
    "\n",
    "\n",
    "# Return the top 3 most similiar words\n",
    "print('Most Similar Words to \"tree\":\\n')\n",
    "print(f'CBOW:        {cbow_model.wv.most_similar(\"tree\", topn=3)}')\n",
    "print(f'Skip-Gram:   {skipgram_model.wv.most_similar(\"tree\", topn=3)}')\n",
    "print(f'Google CBOW: {google_cbow.most_similar(\"tree\", topn=3)}\\n\\n')\n",
    "\n",
    "\n",
    "# Find which word doesn't match\n",
    "words = ['tree', 'leaf', 'plant', 'bark', 'car']\n",
    "\n",
    "cbow_result = cbow_model.wv.doesnt_match(words)\n",
    "skipgram_result = skipgram_model.wv.doesnt_match(words)\n",
    "google_result = google_cbow.doesnt_match(words)\n",
    "\n",
    "print(f\"Find Which Word Doesn't Match: {words}:\\n\")\n",
    "print(f'CBOW:        {cbow_result}')\n",
    "print(f'Skip-Gram:   {skipgram_result}')\n",
    "print(f'Google CBOW: {google_result}')"
   ]
  },
  {
   "cell_type": "code",
   "execution_count": null,
   "metadata": {},
   "outputs": [],
   "source": [
    "# King -> Queen example\n",
    "king = google_cbow['king']\n",
    "man = google_cbow['man']\n",
    "woman = google_cbow['woman']\n",
    "\n",
    "king_result = google_cbow.most_similar(king-man+woman, topn=2)[1]\n",
    "print(king_result)\n",
    "\n",
    "\n",
    "# Paris -> Berlin example\n",
    "paris = google_cbow['paris']\n",
    "france = google_cbow['france']\n",
    "berlin = google_cbow['berlin']\n",
    "\n",
    "paris_result = google_cbow.most_similar(paris-france+berlin, topn=1)[0]\n",
    "print(paris_result)"
   ]
  }
 ],
 "metadata": {
  "language_info": {
   "name": "python"
  }
 },
 "nbformat": 4,
 "nbformat_minor": 2
}
